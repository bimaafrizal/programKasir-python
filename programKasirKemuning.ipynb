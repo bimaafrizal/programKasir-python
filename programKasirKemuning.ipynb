{
  "nbformat": 4,
  "nbformat_minor": 0,
  "metadata": {
    "colab": {
      "name": "programKasirKemuning.ipynb",
      "provenance": [],
      "collapsed_sections": []
    },
    "kernelspec": {
      "name": "python3",
      "display_name": "Python 3"
    },
    "language_info": {
      "name": "python"
    }
  },
  "cells": [
    {
      "cell_type": "code",
      "metadata": {
        "id": "K9vu5zv1K7PH"
      },
      "source": [
        "import pandas as pd"
      ],
      "execution_count": 35,
      "outputs": []
    },
    {
      "cell_type": "code",
      "metadata": {
        "id": "14W7-JemxAfp"
      },
      "source": [
        "menu = ['Sate Kelinci', 'Sop Buntut Iga', 'Sego Tumpang', 'Soto Ayam', 'Tempe Mendoan', 'Molen Tawangmangu', 'Tahu Petis', 'ES Teh', 'Es Jeruk', 'Kopi']\n",
        "harga = [15000, 25000, 10000, 7000, 5000, 5000, 5000, 2000, 3000, 5000]\n",
        "listPesanan = []\n",
        "totalHarga = []\n",
        "jumlahPesanan = []\n"
      ],
      "execution_count": 38,
      "outputs": []
    },
    {
      "cell_type": "code",
      "metadata": {
        "colab": {
          "base_uri": "https://localhost:8080/"
        },
        "id": "pgwD2MOLLnRz",
        "outputId": "fc0a23c9-719d-4d06-d114-df0b69a1a3bf"
      },
      "source": [
        "statusExit = True\n",
        "while(statusExit):\n",
        "  print(\"=\" * 10 + \"Program Kasir Kelompok Dua\" + \"=\" * 15)\n",
        "  print(\"\")\n",
        "  print(\"Pilih mode:\")\n",
        "  print(\"1.Tambah Data\\n2.Transaksi\\n3.Nota\\n4.Exit\\n\")\n",
        "  pilihan = int(input(\"Masukan pilhan anda: \"))\n",
        "  print(\"\")\n",
        "\n",
        "  if(pilihan == 1):\n",
        "    #masukan baru menu\n",
        "    menuTambah = input(\"Masukan menu baru! \")\n",
        "    hargaTambah = int(input(\"Masukan harganya! \"))\n",
        "    menu.append(menuTambah)\n",
        "    harga.append(hargaTambah)\n",
        "    \n",
        "  if(pilihan == 2):\n",
        "    #merubah index mulai dari 1\n",
        "    gantiIndexMenu = []\n",
        "    gantiIndexHarga = []\n",
        "    gantiPesanan = []\n",
        "\n",
        "    for i in range(1,len(menu)+1):\n",
        "      gantiIndexMenu.append(i)\n",
        "    for i in range(1,len(menu)+1):\n",
        "      gantiIndexHarga.append(i)\n",
        "\n",
        "    gantiIndex = pd.Series(menu, gantiIndexMenu)\n",
        "    gantiIndex2 = pd.Series(harga, gantiIndexHarga)\n",
        "    \n",
        "    #menampilkan menu\n",
        "    print(\"DAFTAR MENU\")\n",
        "    for i in range(1,len(menu)+1):\n",
        "      print(i, gantiIndex[i], gantiIndex2[i])\n",
        "      print(\"\")\n",
        "\n",
        "    # menyimpan pesanan\n",
        "    pesanan = int(input(\"Masukan pesanan \"))\n",
        "    jumlah = int(input(\"Masukan Jumlah pesanan \"))    \n",
        "    listPesanan.append(gantiIndex[pesanan])\n",
        "    jumlahPesanan.append(jumlah)  \n",
        "    totalHarga.append(jumlah * gantiIndex2[pesanan])\n",
        "\n",
        "    #merubah index pesanan\n",
        "    gantiTotalHarga = []\n",
        "    for i in range(1,len(totalHarga)+1):\n",
        "      gantiPesanan.append(i)\n",
        "\n",
        "    gantiIndexPesanan = pd.Series(jumlah, gantiPesanan)\n",
        "    gantiListPesanan = pd.Series(listPesanan, gantiPesanan) \n",
        "    gantiTotalHarga =   pd.Series(totalHarga, gantiPesanan) \n",
        "\n",
        "    print(\"\")\n",
        "\n",
        "  if(pilihan == 3):\n",
        "    pelanggan  = input(\"Masukan nama pelanggan: \")\n",
        "    print(\"Jumlah yang harus dibayarkan :\", sum(totalHarga))\n",
        "    uangMasuk = int(input(\"Uang Masuk Pelanggan: \"))\n",
        "\n",
        "    jumlahBayar = 0\n",
        "\n",
        "    for item in totalHarga:\n",
        "      jumlahBayar += item    \n",
        "    \n",
        "    kembalian = uangMasuk - jumlahBayar\n",
        "\n",
        "    print(\"\\n===========================\")\n",
        "    print(\"======= S T R U K   B E L I =====\")\n",
        "    print(\"===========================\")\n",
        "    print (\"Nama         :\",pelanggan)\n",
        "    print(\"Pesanan :\")\n",
        "    for i in range(1, len(gantiPesanan)+1\\):\n",
        "      print(i, gantiListPesanan[i], gantiIndexPesanan[i], totalHarga[i-1])\n",
        "    # print(gantiListPesanan[1])\n",
        "    # print(gantiListPesanan[2])\n",
        "    # print(gantiIndexPesanan[1])\n",
        "    # print(gantiIndexPesanan[2])\n",
        "    # print(totalHarga[1])\n",
        "    # print(totalHarga[2])   \n",
        "    print (\"Tagihan       : Rp.\",sum(totalHarga))\n",
        "    print (\"Uang          : Rp.\",uangMasuk)\n",
        "    print (\"Kembalian     : Rp.\",kembalian)\n",
        "    print(\"===========================\")\n",
        "    print(\"===========================\")\n",
        "    \n",
        "  \n",
        "  if(pilihan == 4):\n",
        "    break"
      ],
      "execution_count": 42,
      "outputs": [
        {
          "output_type": "stream",
          "text": [
            "==========Program Kasir Kelompok Dua===============\n",
            "\n",
            "Pilih mode:\n",
            "1.Tambah Data\n",
            "2.Transaksi\n",
            "3.Nota\n",
            "4.Exit\n",
            "\n",
            "Masukan pilhan anda: 3\n",
            "\n",
            "Masukan nama pelanggan: bima\n",
            "Jumlah yang harus dibayarkan : 80000\n",
            "Uang Masuk Pelanggan: 100000\n",
            "\n",
            "===========================\n",
            "======= S T R U K   B E L I =====\n",
            "===========================\n",
            "Nama         : bima\n",
            "Pesanan :\n",
            "1 Sop Buntut Iga 3 50000\n",
            "2 Sego Tumpang 3 30000\n",
            "Tagihan       : Rp. 80000\n",
            "Uang          : Rp. 100000\n",
            "Kembalian     : Rp. 20000\n",
            "===========================\n",
            "===========================\n",
            "==========Program Kasir Kelompok Dua===============\n",
            "\n",
            "Pilih mode:\n",
            "1.Tambah Data\n",
            "2.Transaksi\n",
            "3.Nota\n",
            "4.Exit\n",
            "\n",
            "Masukan pilhan anda: 4\n",
            "\n"
          ],
          "name": "stdout"
        }
      ]
    }
  ]
}